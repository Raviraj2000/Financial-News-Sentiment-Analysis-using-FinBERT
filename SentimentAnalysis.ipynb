{
 "cells": [
  {
   "cell_type": "code",
   "execution_count": null,
   "id": "1726829a",
   "metadata": {},
   "outputs": [],
   "source": [
    "import numpy as np\n",
    "import pandas as pd"
   ]
  },
  {
   "cell_type": "code",
   "execution_count": null,
   "id": "e2f3ef02",
   "metadata": {},
   "outputs": [],
   "source": [
    "finance_news = pd.read_csv('news.csv', encoding = 'ISO-8859-1')\n",
    "finance_news.head()"
   ]
  },
  {
   "cell_type": "code",
   "execution_count": null,
   "id": "d20dc6b6",
   "metadata": {},
   "outputs": [],
   "source": [
    "X = finance_news['headline'].to_list()\n",
    "y = finance_news['sentiment'].to_list()\n",
    "\n",
    "for i,x in enumerate(X):\n",
    "    print(i+1,\")\",x)"
   ]
  },
  {
   "cell_type": "code",
   "execution_count": null,
   "id": "2018885d",
   "metadata": {},
   "outputs": [],
   "source": [
    "from transformers import BertTokenizer, BertForSequenceClassification\n",
    "\n",
    "finbert = BertForSequenceClassification.from_pretrained('yiyanghkust/finbert-tone',num_labels=3)\n",
    "tokenizer = BertTokenizer.from_pretrained('yiyanghkust/finbert-tone')"
   ]
  },
  {
   "cell_type": "code",
   "execution_count": null,
   "id": "2049bf61",
   "metadata": {},
   "outputs": [],
   "source": [
    "labels = {0:'neutral', 1:'positive',2:'negative'}"
   ]
  },
  {
   "cell_type": "code",
   "execution_count": null,
   "id": "49fc6721",
   "metadata": {},
   "outputs": [],
   "source": [
    "sent_val = list()\n",
    "for x in X:\n",
    "    inputs = tokenizer(x, return_tensors=\"pt\", padding=True)\n",
    "    outputs = finbert(**inputs)[0]\n",
    "   \n",
    "    val = labels[np.argmax(outputs.detach().numpy())]\n",
    "    print(x, '----', val)\n",
    "    print('#######################################################')    \n",
    "    sent_val.append(val)"
   ]
  },
  {
   "cell_type": "code",
   "execution_count": null,
   "id": "eb8bb03a",
   "metadata": {},
   "outputs": [],
   "source": [
    "len(sent_val)"
   ]
  },
  {
   "cell_type": "code",
   "execution_count": null,
   "id": "07361d22",
   "metadata": {},
   "outputs": [],
   "source": [
    "from sklearn.metrics import accuracy_score\n",
    "print(accuracy_score(y, sent_val))"
   ]
  }
 ],
 "metadata": {
  "kernelspec": {
   "display_name": "tensorflow",
   "language": "python",
   "name": "tensorflow"
  },
  "language_info": {
   "codemirror_mode": {
    "name": "ipython",
    "version": 3
   },
   "file_extension": ".py",
   "mimetype": "text/x-python",
   "name": "python",
   "nbconvert_exporter": "python",
   "pygments_lexer": "ipython3",
   "version": "3.7.9"
  }
 },
 "nbformat": 4,
 "nbformat_minor": 5
}
