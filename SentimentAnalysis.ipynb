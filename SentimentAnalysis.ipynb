{
 "cells": [
  {
   "cell_type": "code",
   "execution_count": null,
   "id": "efba1775",
   "metadata": {},
   "outputs": [],
   "source": [
    "import numpy as np\n",
    "import pandas as pd"
   ]
  },
  {
   "cell_type": "code",
   "execution_count": null,
   "id": "263be720",
   "metadata": {},
   "outputs": [],
   "source": [
    "finance_news = pd.read_csv('news.csv', encoding = 'ISO-8859-1')"
   ]
  },
  {
   "cell_type": "code",
   "execution_count": null,
   "id": "658df64b",
   "metadata": {},
   "outputs": [],
   "source": [
    "finance_news"
   ]
  },
  {
   "cell_type": "code",
   "execution_count": null,
   "id": "172b11e3",
   "metadata": {},
   "outputs": [],
   "source": [
    "X = finance_news['headline'].to_list()\n",
    "y = finance_news['sentiment'].to_list()\n",
    "\n",
    "for i,x in enumerate(X):\n",
    "    print(i,\")\",x)"
   ]
  },
  {
   "cell_type": "code",
   "execution_count": null,
   "id": "663c2aac",
   "metadata": {},
   "outputs": [],
   "source": [
    "from transformers import BertTokenizer, BertForSequenceClassification\n",
    "\n",
    "finbert = BertForSequenceClassification.from_pretrained('yiyanghkust/finbert-tone',num_labels=3)\n",
    "tokenizer = BertTokenizer.from_pretrained('yiyanghkust/finbert-tone')"
   ]
  },
  {
   "cell_type": "code",
   "execution_count": null,
   "id": "7468a7b9",
   "metadata": {},
   "outputs": [],
   "source": [
    "labels = {0:'neutral', 1:'positive',2:'negative'}"
   ]
  },
  {
   "cell_type": "code",
   "execution_count": null,
   "id": "f57e38a6",
   "metadata": {},
   "outputs": [],
   "source": [
    "sent_val = list()\n",
    "for x in X:\n",
    "    inputs = tokenizer(x, return_tensors=\"pt\", padding=True)\n",
    "    outputs = finbert(**inputs)[0]\n",
    "   \n",
    "    val = labels[np.argmax(outputs.detach().numpy())]\n",
    "    print(x, '----', val)\n",
    "    print('#######################################################')    \n",
    "    sent_val.append(val)"
   ]
  },
  {
   "cell_type": "code",
   "execution_count": null,
   "id": "1d9accd5",
   "metadata": {},
   "outputs": [],
   "source": [
    "len(sent_val)"
   ]
  },
  {
   "cell_type": "code",
   "execution_count": null,
   "id": "1baea749",
   "metadata": {},
   "outputs": [],
   "source": [
    "from sklearn.metrics import accuracy_score\n",
    "print(accuracy_score(y, sent_val))"
   ]
  },
  {
   "cell_type": "code",
   "execution_count": null,
   "id": "ceb3ea21",
   "metadata": {},
   "outputs": [],
   "source": [
    "from bs4 import BeautifulSoup\n",
    "import pandas as pd\n",
    "from urllib.request import urlopen, Request"
   ]
  },
  {
   "cell_type": "code",
   "execution_count": null,
   "id": "abff03f7",
   "metadata": {},
   "outputs": [],
   "source": [
    "def get_ticks(url):\n",
    "    req = Request(url=url,headers={\"User-Agent\": \"Chrome\"}) \n",
    "    response = urlopen(req)    \n",
    "    html = BeautifulSoup(response,\"html.parser\")\n",
    "    news_table = html.find(class_ = 'page')\n",
    "    \n",
    "    ticks = list()\n",
    "    stocks = list()\n",
    "    for name_box in news_table.find_all('a', href = True):\n",
    "        stocks.append(name_box.text.strip())\n",
    "        ticks.append(name_box['href'].split('-')[-1].strip())\n",
    "    d = {'stock':stocks, 'tick':ticks}\n",
    "    df = pd.DataFrame(data = d)\n",
    "    return df"
   ]
  },
  {
   "cell_type": "code",
   "execution_count": null,
   "id": "698a9655",
   "metadata": {},
   "outputs": [],
   "source": [
    "url = \"https://www.tickertape.in/stocks\""
   ]
  },
  {
   "cell_type": "code",
   "execution_count": null,
   "id": "a3c345e2",
   "metadata": {
    "scrolled": true
   },
   "outputs": [],
   "source": [
    "tick_df = get_ticks(url)"
   ]
  },
  {
   "cell_type": "code",
   "execution_count": null,
   "id": "805ca5e3",
   "metadata": {},
   "outputs": [],
   "source": [
    "tick_df.shape"
   ]
  },
  {
   "cell_type": "code",
   "execution_count": null,
   "id": "9c32c4b1",
   "metadata": {},
   "outputs": [],
   "source": [
    "tick_df"
   ]
  },
  {
   "cell_type": "code",
   "execution_count": null,
   "id": "5274e819",
   "metadata": {},
   "outputs": [],
   "source": [
    "def get_data(url):\n",
    "    req = Request(url=url,headers={\"User-Agent\": \"Chrome\"}) \n",
    "    response = urlopen(req).read()    \n",
    "    html = BeautifulSoup(response,\"html.parser\")\n",
    "    news_table = html.find(class_ = 'latest-news-holder')\n",
    "    \n",
    "    news = list()\n",
    "    \n",
    "    for name_box in news_table.find_all('p', class_='shave-root'):\n",
    "        news.append(name_box.text.strip())\n",
    "    \n",
    "    return news"
   ]
  },
  {
   "cell_type": "code",
   "execution_count": null,
   "id": "0ac2d358",
   "metadata": {},
   "outputs": [],
   "source": [
    "news = list()\n",
    "for i, tick in enumerate(tick_df['tick']):\n",
    "    url = \"https://www.tickertape.in/stocks/\" + tick + \"/news?checklist=basic&ref=stock-overview_overview-sections&type=news\"\n",
    "    headlines = get_data(url)\n",
    "    news.append(headlines)"
   ]
  },
  {
   "cell_type": "code",
   "execution_count": null,
   "id": "86357dd1",
   "metadata": {},
   "outputs": [],
   "source": [
    "from transformers import BertTokenizer, BertForSequenceClassification\n",
    "import numpy as np"
   ]
  },
  {
   "cell_type": "code",
   "execution_count": null,
   "id": "a2d79096",
   "metadata": {},
   "outputs": [],
   "source": [
    "finbert = BertForSequenceClassification.from_pretrained('yiyanghkust/finbert-tone',num_labels=3)\n",
    "tokenizer = BertTokenizer.from_pretrained('yiyanghkust/finbert-tone')"
   ]
  },
  {
   "cell_type": "code",
   "execution_count": null,
   "id": "37e1da56",
   "metadata": {},
   "outputs": [],
   "source": [
    "labels = {0:'neutral', 1:'positive',2:'negative'}"
   ]
  },
  {
   "cell_type": "code",
   "execution_count": null,
   "id": "830ff6b0",
   "metadata": {},
   "outputs": [],
   "source": [
    "for i, n in enumerate(news):\n",
    "    print(i+1, \")\", n)\n",
    "    print('-------')"
   ]
  },
  {
   "cell_type": "code",
   "execution_count": null,
   "id": "97ebcbae",
   "metadata": {},
   "outputs": [],
   "source": [
    "def detect(news):\n",
    "    tot_val = list()\n",
    "    for n in news:\n",
    "        if len(n) == 0:\n",
    "            tot_val.append(['neutral'])\n",
    "        else:\n",
    "            inputs = tokenizer(n, return_tensors=\"pt\", padding=True)\n",
    "            outputs = finbert(**inputs)[0]\n",
    "            val = list()\n",
    "            for idx, sent in enumerate(n):\n",
    "                val.append(labels[np.argmax(outputs.detach().numpy()[idx])])\n",
    "                print(sent, '----', val[idx])\n",
    "            print('#######################################################')    \n",
    "            tot_val.append(val)\n",
    "    return tot_val"
   ]
  },
  {
   "cell_type": "code",
   "execution_count": null,
   "id": "317df90c",
   "metadata": {},
   "outputs": [],
   "source": [
    "tot_val = detect(news)"
   ]
  },
  {
   "cell_type": "code",
   "execution_count": null,
   "id": "922ed1bb",
   "metadata": {},
   "outputs": [],
   "source": [
    "print(tot_val)"
   ]
  },
  {
   "cell_type": "code",
   "execution_count": null,
   "id": "b62dbf22",
   "metadata": {},
   "outputs": [],
   "source": [
    "def get_sent(val):\n",
    "    agg = 0\n",
    "    for i in val:\n",
    "        if i == 'positive':\n",
    "            agg = agg + 1\n",
    "        elif i == 'negative':\n",
    "            agg = agg - 1\n",
    "\n",
    "    if agg > 0:\n",
    "        return('positive')\n",
    "    elif agg < 0:\n",
    "        return('negative')\n",
    "    else:\n",
    "        return('neutral')"
   ]
  },
  {
   "cell_type": "code",
   "execution_count": null,
   "id": "bd7b1742",
   "metadata": {},
   "outputs": [],
   "source": [
    "sent = list()\n",
    "for i in tot_val:\n",
    "    sent.append(get_sent(i))\n"
   ]
  },
  {
   "cell_type": "code",
   "execution_count": null,
   "id": "db1fe5b1",
   "metadata": {},
   "outputs": [],
   "source": [
    "sent"
   ]
  },
  {
   "cell_type": "code",
   "execution_count": null,
   "id": "aa560368",
   "metadata": {},
   "outputs": [],
   "source": [
    "tick_df['sentiment'] = sent "
   ]
  },
  {
   "cell_type": "code",
   "execution_count": null,
   "id": "3a93f8c1",
   "metadata": {},
   "outputs": [],
   "source": [
    "tick_df.head(20)"
   ]
  }
 ],
 "metadata": {
  "kernelspec": {
   "display_name": "tensorflow",
   "language": "python",
   "name": "tensorflow"
  },
  "language_info": {
   "codemirror_mode": {
    "name": "ipython",
    "version": 3
   },
   "file_extension": ".py",
   "mimetype": "text/x-python",
   "name": "python",
   "nbconvert_exporter": "python",
   "pygments_lexer": "ipython3",
   "version": "3.7.9"
  }
 },
 "nbformat": 4,
 "nbformat_minor": 5
}
